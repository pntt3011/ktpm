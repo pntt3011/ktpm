{
 "cells": [
  {
   "cell_type": "code",
   "execution_count": 1,
   "metadata": {},
   "outputs": [
    {
     "data": {
      "text/plain": [
       "{'12': <json_node.single_node.SingleNode at 0x1b8c284b490>,\n",
       " '13': <json_node.single_node.SingleNode at 0x1b8c284b400>,\n",
       " '1': <json_node.single_node.SingleNode at 0x1b8c284b3a0>,\n",
       " '10': <json_node.composite_node.CompositeNode at 0x1b8c284b220>,\n",
       " '11': <json_node.single_node.SingleNode at 0x1b8c270e910>,\n",
       " '14': <json_node.single_node.SingleNode at 0x1b8c270e8e0>,\n",
       " '15': <json_node.single_node.SingleNode at 0x1b8c270e820>}"
      ]
     },
     "execution_count": 1,
     "metadata": {},
     "output_type": "execute_result"
    }
   ],
   "source": [
    "import json\n",
    "from json2torch.node_manager import NodeManager\n",
    "\n",
    "with open('./test_case.json') as f:\n",
    "    json_data = json.load(f)\n",
    "\n",
    "nm = NodeManager(json_data=json_data, name='ResNet', key_field='id')\n",
    "nm.model_node.params"
   ]
  },
  {
   "cell_type": "code",
   "execution_count": 2,
   "metadata": {},
   "outputs": [],
   "source": [
    "final_code_string = nm.export_code()\n",
    "\n",
    "with open('resnet.py', 'w') as f:\n",
    "    f.write(final_code_string)"
   ]
  }
 ],
 "metadata": {
  "kernelspec": {
   "display_name": "Python 3",
   "language": "python",
   "name": "python3"
  },
  "language_info": {
   "codemirror_mode": {
    "name": "ipython",
    "version": 3
   },
   "file_extension": ".py",
   "mimetype": "text/x-python",
   "name": "python",
   "nbconvert_exporter": "python",
   "pygments_lexer": "ipython3",
   "version": "3.9.12"
  },
  "orig_nbformat": 4,
  "vscode": {
   "interpreter": {
    "hash": "bf9ea24be2019ecb744b2e80f9d146e6275ff598db9a2f716dbd2a13dfe1c2e4"
   }
  }
 },
 "nbformat": 4,
 "nbformat_minor": 2
}
